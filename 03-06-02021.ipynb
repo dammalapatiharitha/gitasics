{
 "cells": [
  {
   "cell_type": "markdown",
   "metadata": {},
   "source": [
    "# set:\n"
   ]
  },
  {
   "cell_type": "code",
   "execution_count": 1,
   "metadata": {},
   "outputs": [
    {
     "name": "stdout",
     "output_type": "stream",
     "text": [
      "{'Ramu', 450, 45, 'a', 120, 155}\n"
     ]
    }
   ],
   "source": [
    "g = {45,'a',45,120,155,450,\"Ramu\"}\n",
    "print(g)"
   ]
  },
  {
   "cell_type": "code",
   "execution_count": 2,
   "metadata": {},
   "outputs": [
    {
     "data": {
      "text/plain": [
       "{120, 155, 45, 450, 'Ramu', 'a'}"
      ]
     },
     "execution_count": 2,
     "metadata": {},
     "output_type": "execute_result"
    }
   ],
   "source": [
    "g"
   ]
  },
  {
   "cell_type": "code",
   "execution_count": 3,
   "metadata": {},
   "outputs": [
    {
     "name": "stdout",
     "output_type": "stream",
     "text": [
      "() <class 'tuple'>\n",
      "{2} <class 'set'>\n"
     ]
    }
   ],
   "source": [
    "h = ()\n",
    "m = {2}\n",
    "print(h,type(h))\n",
    "print(m,type(m))"
   ]
  },
  {
   "cell_type": "code",
   "execution_count": 4,
   "metadata": {},
   "outputs": [
    {
     "name": "stdout",
     "output_type": "stream",
     "text": [
      "['__and__', '__class__', '__contains__', '__delattr__', '__dir__', '__doc__', '__eq__', '__format__', '__ge__', '__getattribute__', '__gt__', '__hash__', '__iand__', '__init__', '__init_subclass__', '__ior__', '__isub__', '__iter__', '__ixor__', '__le__', '__len__', '__lt__', '__ne__', '__new__', '__or__', '__rand__', '__reduce__', '__reduce_ex__', '__repr__', '__ror__', '__rsub__', '__rxor__', '__setattr__', '__sizeof__', '__str__', '__sub__', '__subclasshook__', '__xor__', 'add', 'clear', 'copy', 'difference', 'difference_update', 'discard', 'intersection', 'intersection_update', 'isdisjoint', 'issubset', 'issuperset', 'pop', 'remove', 'symmetric_difference', 'symmetric_difference_update', 'union', 'update']\n"
     ]
    }
   ],
   "source": [
    "print(dir(set))"
   ]
  },
  {
   "cell_type": "code",
   "execution_count": 11,
   "metadata": {},
   "outputs": [
    {
     "name": "stdout",
     "output_type": "stream",
     "text": [
      "{34, 67, 'lalitha', 'prasanna', 'ramu'}\n"
     ]
    }
   ],
   "source": [
    "s1 = {34,67,\"ramu\",0,\"lalitha\"}\n",
    "s1.add(\"prasanna\")\n",
    "s1.pop()\n",
    "print(s1)"
   ]
  },
  {
   "cell_type": "code",
   "execution_count": 12,
   "metadata": {},
   "outputs": [
    {
     "data": {
      "text/plain": [
       "{34, 67, 'lalitha', 'prasanna', 'ramu'}"
      ]
     },
     "execution_count": 12,
     "metadata": {},
     "output_type": "execute_result"
    }
   ],
   "source": [
    "s1"
   ]
  },
  {
   "cell_type": "code",
   "execution_count": 13,
   "metadata": {},
   "outputs": [
    {
     "name": "stdout",
     "output_type": "stream",
     "text": [
      "{34, 67, 'lalitha', 'prasanna', 'ramu'}\n",
      "{67, 'lalitha', 'prasanna', 'ramu'}\n"
     ]
    }
   ],
   "source": [
    "print(s1)\n",
    "s1.pop()\n",
    "print(s1)"
   ]
  },
  {
   "cell_type": "code",
   "execution_count": 14,
   "metadata": {},
   "outputs": [
    {
     "name": "stdout",
     "output_type": "stream",
     "text": [
      "{67, 'lalitha', 'prasanna', 'ramu'}\n"
     ]
    },
    {
     "ename": "TypeError",
     "evalue": "pop() takes no arguments (1 given)",
     "output_type": "error",
     "traceback": [
      "\u001b[1;31m---------------------------------------------------------------------------\u001b[0m",
      "\u001b[1;31mTypeError\u001b[0m                                 Traceback (most recent call last)",
      "\u001b[1;32m<ipython-input-14-bbbfe3a07b3f>\u001b[0m in \u001b[0;36m<module>\u001b[1;34m\u001b[0m\n\u001b[0;32m      1\u001b[0m \u001b[0mprint\u001b[0m\u001b[1;33m(\u001b[0m\u001b[0ms1\u001b[0m\u001b[1;33m)\u001b[0m\u001b[1;33m\u001b[0m\u001b[1;33m\u001b[0m\u001b[0m\n\u001b[1;32m----> 2\u001b[1;33m \u001b[0ms1\u001b[0m\u001b[1;33m.\u001b[0m\u001b[0mpop\u001b[0m\u001b[1;33m(\u001b[0m\u001b[1;34m'ramu'\u001b[0m\u001b[1;33m)\u001b[0m\u001b[1;33m\u001b[0m\u001b[1;33m\u001b[0m\u001b[0m\n\u001b[0m\u001b[0;32m      3\u001b[0m \u001b[0mprint\u001b[0m\u001b[1;33m(\u001b[0m\u001b[0ms1\u001b[0m\u001b[1;33m)\u001b[0m\u001b[1;33m\u001b[0m\u001b[1;33m\u001b[0m\u001b[0m\n",
      "\u001b[1;31mTypeError\u001b[0m: pop() takes no arguments (1 given)"
     ]
    }
   ],
   "source": [
    "print(s1)\n",
    "s1.pop('ramu')\n",
    "print(s1)"
   ]
  },
  {
   "cell_type": "code",
   "execution_count": 15,
   "metadata": {},
   "outputs": [
    {
     "name": "stdout",
     "output_type": "stream",
     "text": [
      "{67, 'lalitha', 'prasanna', 'ramu'}\n",
      "{67, 'lalitha', 'prasanna'}\n"
     ]
    }
   ],
   "source": [
    "print(s1)\n",
    "s1.remove('ramu')\n",
    "print(s1)"
   ]
  },
  {
   "cell_type": "code",
   "execution_count": 16,
   "metadata": {},
   "outputs": [
    {
     "name": "stdout",
     "output_type": "stream",
     "text": [
      "{67, 'lalitha', 'prasanna'}\n",
      "{67, 'lalitha'}\n"
     ]
    }
   ],
   "source": [
    "print(s1)\n",
    "s1.remove(\"prasanna\")\n",
    "print(s1)"
   ]
  },
  {
   "cell_type": "code",
   "execution_count": 17,
   "metadata": {},
   "outputs": [
    {
     "name": "stdout",
     "output_type": "stream",
     "text": [
      "{32, 5, 6, 8, 45}\n",
      "{1, 2, 5, 6, 7, 456, 12, 123}\n",
      "{32, 1, 2, 5, 6, 7, 8, 456, 12, 45, 123}\n",
      "{32, 5, 6, 8, 45}\n",
      "{1, 2, 5, 6, 7, 456, 12, 123}\n"
     ]
    }
   ],
   "source": [
    "s2 = {45,8,32,5,6}\n",
    "s3 = {1,2,5,7,6,12,123,456}\n",
    "print(s2)\n",
    "print(s3)\n",
    "print(s2.union(s3))\n",
    "print(s2)\n",
    "print(s3)"
   ]
  },
  {
   "cell_type": "code",
   "execution_count": 18,
   "metadata": {},
   "outputs": [
    {
     "name": "stdout",
     "output_type": "stream",
     "text": [
      "{32, 5, 6, 8, 45}\n",
      "{1, 2, 5, 6, 7, 456, 12, 123}\n",
      "{5, 6}\n",
      "{32, 5, 6, 8, 45}\n",
      "{1, 2, 5, 6, 7, 456, 12, 123}\n"
     ]
    }
   ],
   "source": [
    "print(s2)\n",
    "print(s3)\n",
    "print(s2.intersection(s3))\n",
    "print(s2)\n",
    "print(s3)"
   ]
  },
  {
   "cell_type": "markdown",
   "metadata": {},
   "source": [
    "# Dictionary:"
   ]
  },
  {
   "cell_type": "code",
   "execution_count": 68,
   "metadata": {},
   "outputs": [
    {
     "name": "stdout",
     "output_type": "stream",
     "text": [
      "{'name': ('ramu', 'suresh', 'tejaswini'), 'age': 20, 'sal': [24.5, 48.56]} <class 'dict'>\n"
     ]
    }
   ],
   "source": [
    "t = {'name':(\"ramu\",\"suresh\",\"tejaswini\"),'age':20,'sal':[24.5,48.56]}\n",
    "print(t,type(t))"
   ]
  },
  {
   "cell_type": "code",
   "execution_count": 34,
   "metadata": {},
   "outputs": [
    {
     "name": "stdout",
     "output_type": "stream",
     "text": [
      "24.5\n"
     ]
    }
   ],
   "source": [
    "print(t['sal'][0])"
   ]
  },
  {
   "cell_type": "code",
   "execution_count": 69,
   "metadata": {},
   "outputs": [
    {
     "name": "stdout",
     "output_type": "stream",
     "text": [
      "['__class__', '__contains__', '__delattr__', '__delitem__', '__dir__', '__doc__', '__eq__', '__format__', '__ge__', '__getattribute__', '__getitem__', '__gt__', '__hash__', '__init__', '__init_subclass__', '__iter__', '__le__', '__len__', '__lt__', '__ne__', '__new__', '__reduce__', '__reduce_ex__', '__repr__', '__reversed__', '__setattr__', '__setitem__', '__sizeof__', '__str__', '__subclasshook__', 'clear', 'copy', 'fromkeys', 'get', 'items', 'keys', 'pop', 'popitem', 'setdefault', 'update', 'values']\n"
     ]
    }
   ],
   "source": [
    "print(dir(dict))"
   ]
  },
  {
   "cell_type": "code",
   "execution_count": 70,
   "metadata": {},
   "outputs": [
    {
     "name": "stdout",
     "output_type": "stream",
     "text": [
      "dict_keys(['name', 'age', 'sal'])\n"
     ]
    }
   ],
   "source": [
    "print(t.keys())"
   ]
  },
  {
   "cell_type": "code",
   "execution_count": 71,
   "metadata": {},
   "outputs": [
    {
     "name": "stdout",
     "output_type": "stream",
     "text": [
      "dict_values([('ramu', 'suresh', 'tejaswini'), 20, [24.5, 48.56]])\n"
     ]
    }
   ],
   "source": [
    "print(t.values())"
   ]
  },
  {
   "cell_type": "code",
   "execution_count": 72,
   "metadata": {},
   "outputs": [
    {
     "name": "stdout",
     "output_type": "stream",
     "text": [
      "{'name': 'tilak', 'age': [45, 59], 'sal': 0}\n"
     ]
    }
   ],
   "source": [
    "y = {'name':\"tilak\",\"age\":[45,59],\"sal\":0}\n",
    "print(y)"
   ]
  },
  {
   "cell_type": "code",
   "execution_count": 73,
   "metadata": {},
   "outputs": [
    {
     "name": "stdout",
     "output_type": "stream",
     "text": [
      "dict_items([('name', ('ramu', 'suresh', 'tejaswini')), ('age', 20), ('sal', [24.5, 48.56])])\n"
     ]
    }
   ],
   "source": [
    "print(t.items())\n"
   ]
  },
  {
   "cell_type": "code",
   "execution_count": 74,
   "metadata": {},
   "outputs": [
    {
     "ename": "NameError",
     "evalue": "name 'key' is not defined",
     "output_type": "error",
     "traceback": [
      "\u001b[1;31m---------------------------------------------------------------------------\u001b[0m",
      "\u001b[1;31mNameError\u001b[0m                                 Traceback (most recent call last)",
      "\u001b[1;32m<ipython-input-74-f72142b6eeea>\u001b[0m in \u001b[0;36m<module>\u001b[1;34m\u001b[0m\n\u001b[1;32m----> 1\u001b[1;33m \u001b[1;33m[\u001b[0m\u001b[1;33m(\u001b[0m\u001b[0mkey\u001b[0m\u001b[1;33m,\u001b[0m\u001b[0mvalue\u001b[0m\u001b[1;33m,\u001b[0m\u001b[1;33m(\u001b[0m\u001b[1;33m)\u001b[0m\u001b[1;33m,\u001b[0m\u001b[1;33m(\u001b[0m\u001b[1;33m)\u001b[0m\u001b[1;33m)\u001b[0m\u001b[1;33m]\u001b[0m\u001b[1;33m\u001b[0m\u001b[1;33m\u001b[0m\u001b[0m\n\u001b[0m",
      "\u001b[1;31mNameError\u001b[0m: name 'key' is not defined"
     ]
    }
   ],
   "source": [
    "[(key,value,(),())]"
   ]
  },
  {
   "cell_type": "code",
   "execution_count": 75,
   "metadata": {},
   "outputs": [
    {
     "name": "stdout",
     "output_type": "stream",
     "text": [
      "('ramu', 'suresh', 'tejaswini')\n",
      "20\n",
      "None\n"
     ]
    }
   ],
   "source": [
    "print(t.get('name'))\n",
    "print(t.get('age'))\n",
    "print(t.get('no'))\n"
   ]
  },
  {
   "cell_type": "code",
   "execution_count": 76,
   "metadata": {},
   "outputs": [
    {
     "name": "stdout",
     "output_type": "stream",
     "text": [
      "{'name': ('ramu', 'suresh', 'tejaswini'), 'age': 20, 'sal': [24.5, 48.56]}\n"
     ]
    }
   ],
   "source": [
    "print(t)"
   ]
  },
  {
   "cell_type": "code",
   "execution_count": 77,
   "metadata": {},
   "outputs": [
    {
     "name": "stdout",
     "output_type": "stream",
     "text": [
      "{'name': ('ramu', 'suresh', 'tejaswini'), 'age': 20, 'sal': [24.5, 48.56]}\n"
     ]
    }
   ],
   "source": [
    "print(t)\n",
    "t['no'] = [12,78,89,450]"
   ]
  },
  {
   "cell_type": "code",
   "execution_count": 78,
   "metadata": {},
   "outputs": [
    {
     "name": "stdout",
     "output_type": "stream",
     "text": [
      "{'name': ('ramu', 'suresh', 'tejaswini'), 'age': 20, 'sal': [24.5, 48.56], 'no': [12, 78, 89, 450]}\n",
      "{'name': ('ramu', 'suresh', 'tejaswini'), 'age': 20, 'sal': [24.5, 48.56], 'no': 'yamini'}\n"
     ]
    }
   ],
   "source": [
    "print(t)\n",
    "t['no'] = \"yamini\"\n",
    "print(t)"
   ]
  },
  {
   "cell_type": "code",
   "execution_count": 79,
   "metadata": {},
   "outputs": [
    {
     "name": "stdout",
     "output_type": "stream",
     "text": [
      "{'name': ('ramu', 'suresh', 'tejaswini'), 'age': 20, 'sal': [24.5, 48.56], 'no': 'yamini'}\n",
      "{'name': ('ramu', 'suresh', 'tejaswini'), 'age': 20, 'sal': [24.5, 48.56], 'no': 'yamini', 'tr': None}\n"
     ]
    }
   ],
   "source": [
    "print(t)\n",
    "t.setdefault('tr')\n",
    "print(t)"
   ]
  },
  {
   "cell_type": "code",
   "execution_count": 80,
   "metadata": {},
   "outputs": [
    {
     "name": "stdout",
     "output_type": "stream",
     "text": [
      "{'name': ('ramu', 'suresh', 'tejaswini'), 'age': 20, 'sal': [24.5, 48.56], 'no': 'yamini', 'tr': None}\n",
      "{'name': ('ramu', 'suresh', 'tejaswini'), 'age': 20, 'sal': [24.5, 48.56], 'no': 'yamini', 'tr': 45}\n"
     ]
    }
   ],
   "source": [
    "print(t)\n",
    "t.update({'tr':45})\n",
    "print(t)"
   ]
  },
  {
   "cell_type": "code",
   "execution_count": 81,
   "metadata": {},
   "outputs": [
    {
     "name": "stdout",
     "output_type": "stream",
     "text": [
      "{'name': ('ramu', 'suresh', 'tejaswini'), 'age': 20, 'sal': [24.5, 48.56], 'no': 'yamini', 'tr': 45}\n"
     ]
    }
   ],
   "source": [
    "print(t)"
   ]
  },
  {
   "cell_type": "code",
   "execution_count": 82,
   "metadata": {},
   "outputs": [
    {
     "name": "stdout",
     "output_type": "stream",
     "text": [
      "None\n"
     ]
    }
   ],
   "source": [
    "print(t.update({'tr':\"ramu\"}))"
   ]
  },
  {
   "cell_type": "code",
   "execution_count": 83,
   "metadata": {},
   "outputs": [
    {
     "name": "stdout",
     "output_type": "stream",
     "text": [
      "{'name': ('ramu', 'suresh', 'tejaswini'), 'age': 20, 'sal': [24.5, 48.56], 'no': 'yamini', 'tr': 'ramu'}\n"
     ]
    }
   ],
   "source": [
    "print(t)"
   ]
  },
  {
   "cell_type": "code",
   "execution_count": 84,
   "metadata": {},
   "outputs": [
    {
     "name": "stdout",
     "output_type": "stream",
     "text": [
      "{'name': ('ramu', 'suresh', 'tejaswini'), 'age': 20, 'sal': [24.5, 48.56], 'no': 'yamini', 'tr': 'ramu'}\n",
      "20\n",
      "{'name': ('ramu', 'suresh', 'tejaswini'), 'sal': [24.5, 48.56], 'no': 'yamini', 'tr': 'ramu'}\n"
     ]
    }
   ],
   "source": [
    "print(t)\n",
    "print(t.pop('age'))\n",
    "print(t)"
   ]
  },
  {
   "cell_type": "code",
   "execution_count": 85,
   "metadata": {},
   "outputs": [
    {
     "name": "stdout",
     "output_type": "stream",
     "text": [
      "{'name': ('ramu', 'suresh', 'tejaswini'), 'sal': [24.5, 48.56], 'no': 'yamini', 'tr': 'ramu'}\n",
      "('tr', 'ramu')\n",
      "{'name': ('ramu', 'suresh', 'tejaswini'), 'sal': [24.5, 48.56], 'no': 'yamini'}\n"
     ]
    }
   ],
   "source": [
    "print(t)\n",
    "print(t.popitem())\n",
    "print(t)"
   ]
  },
  {
   "cell_type": "code",
   "execution_count": 86,
   "metadata": {},
   "outputs": [
    {
     "name": "stdout",
     "output_type": "stream",
     "text": [
      "['name', 'age', 'sal']\n",
      "[12, 45, 78, 98, 45]\n",
      "{'name': 34, 'donar': 45}\n",
      "['name', 'age', 'sal']\n",
      "[12, 45, 78, 98, 45]\n"
     ]
    }
   ],
   "source": [
    "q = ['name','age','sal']\n",
    "w = [12,45,78,98,45]\n",
    "print(q)\n",
    "print(w)\n",
    "f = {'name':34,'donar':45}\n",
    "f.fromkeys(w)\n",
    "print(f)\n",
    "print(q)\n",
    "print(w)"
   ]
  },
  {
   "cell_type": "code",
   "execution_count": 87,
   "metadata": {},
   "outputs": [
    {
     "name": "stdout",
     "output_type": "stream",
     "text": [
      "['name', 'age', 'sal']\n",
      "[12, 45, 78, 98, 45]\n",
      "{}\n"
     ]
    }
   ],
   "source": [
    "q = ['name','age','sal']\n",
    "w = [12,45,78,98,45]\n",
    "print(q)\n",
    "print(w)\n",
    "f = {}\n",
    "f.fromkeys(q,w)\n",
    "print(f)"
   ]
  },
  {
   "cell_type": "code",
   "execution_count": 88,
   "metadata": {},
   "outputs": [
    {
     "name": "stdout",
     "output_type": "stream",
     "text": [
      "{}\n"
     ]
    }
   ],
   "source": [
    "t = {'name':\"ramu\",'sno':1}\n",
    "t1 = {}\n",
    "t.fromkeys(q,w)\n",
    "print(t1)"
   ]
  },
  {
   "cell_type": "code",
   "execution_count": 89,
   "metadata": {},
   "outputs": [
    {
     "name": "stdout",
     "output_type": "stream",
     "text": [
      "{'maths': [0, 45], 'python': [0, 45], 'c++': [0, 45]}\n"
     ]
    }
   ],
   "source": [
    "marks = {}.fromkeys([\"maths\",\"python\",\"c++\"],[0,45])\n",
    "print(marks)"
   ]
  },
  {
   "cell_type": "code",
   "execution_count": null,
   "metadata": {},
   "outputs": [],
   "source": [
    "contact application:\n",
    "     \n",
    "    1.Enter new record\n",
    "    2.Display all records\n",
    "    3.Update Record\n",
    "    4.Delete Record\n",
    "    \n",
    "    1.ramu -> not exists\n",
    "       mobile number -> xxxxxx\n",
    "     \n",
    "    2. name           mobile number\n",
    "         ramu            xxxxxxxxxxxx\n",
    "         rajesh           xxxxxxxxxxx\n",
    "    3. ramu -> exist\n",
    "        mobile number -> xxxxxxxx\n",
    "        \n",
    "    4.   ramu -> exist\n",
    "           User deleted successfully\n",
    "         User doesnt exists"
   ]
  },
  {
   "cell_type": "code",
   "execution_count": null,
   "metadata": {},
   "outputs": [],
   "source": [
    "1\n",
    "2\n",
    "3\n",
    "4\n",
    "0\n",
    "           1\n",
    "                Enter your name: rajesh\n",
    "                Rajesh Already exists\n",
    "                Enter your mobile number: xxxxxx\n",
    "                    \n",
    "            2\n",
    "                \n",
    "                Name          Mobile number\n",
    "                Rajesh           xxxxxxxxxxx\n",
    "                \n",
    "            3\n",
    "                \n",
    "                Enter your name: Rajesh\n",
    "                Enter Updated mobile number : xxxxxx\n",
    "                        \n",
    "            R ajesh1 \n",
    "            Rajesh1 Doesnt exist in your contact\n",
    "            \n",
    "        4\n",
    "           Enter your name: Rajesh\n",
    "            Rajesh Record deleted successfully\n",
    "            Rajesh Doesnt exist in your contact"
   ]
  },
  {
   "cell_type": "code",
   "execution_count": null,
   "metadata": {},
   "outputs": [],
   "source": []
  },
  {
   "cell_type": "code",
   "execution_count": null,
   "metadata": {},
   "outputs": [],
   "source": []
  },
  {
   "cell_type": "code",
   "execution_count": null,
   "metadata": {},
   "outputs": [],
   "source": []
  },
  {
   "cell_type": "code",
   "execution_count": null,
   "metadata": {},
   "outputs": [],
   "source": []
  },
  {
   "cell_type": "code",
   "execution_count": null,
   "metadata": {},
   "outputs": [],
   "source": []
  },
  {
   "cell_type": "code",
   "execution_count": null,
   "metadata": {},
   "outputs": [],
   "source": []
  }
 ],
 "metadata": {
  "kernelspec": {
   "display_name": "Python 3",
   "language": "python",
   "name": "python3"
  },
  "language_info": {
   "codemirror_mode": {
    "name": "ipython",
    "version": 3
   },
   "file_extension": ".py",
   "mimetype": "text/x-python",
   "name": "python",
   "nbconvert_exporter": "python",
   "pygments_lexer": "ipython3",
   "version": "3.8.5"
  }
 },
 "nbformat": 4,
 "nbformat_minor": 4
}
