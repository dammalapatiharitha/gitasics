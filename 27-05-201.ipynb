{
 "cells": [
  {
   "cell_type": "code",
   "execution_count": 27,
   "metadata": {},
   "outputs": [
    {
     "ename": "IndentationError",
     "evalue": "unexpected indent (<ipython-input-27-4392ccc3a0e0>, line 2)",
     "output_type": "error",
     "traceback": [
      "\u001b[1;36m  File \u001b[1;32m\"<ipython-input-27-4392ccc3a0e0>\"\u001b[1;36m, line \u001b[1;32m2\u001b[0m\n\u001b[1;33m    Output:\u001b[0m\n\u001b[1;37m    ^\u001b[0m\n\u001b[1;31mIndentationError\u001b[0m\u001b[1;31m:\u001b[0m unexpected indent\n"
     ]
    }
   ],
   "source": [
    "Input: 20\n",
    "    Output:\n",
    "         19KQ1A0501\n",
    "            | | | | |\n",
    "            19KQ1A0509\n",
    "            19KQ1A0510"
   ]
  },
  {
   "cell_type": "code",
   "execution_count": 28,
   "metadata": {},
   "outputs": [
    {
     "name": "stdout",
     "output_type": "stream",
     "text": [
      "11\n",
      "19AK1A0500\n",
      "19AK1A0501\n",
      "19AK1A0502\n",
      "19AK1A0503\n",
      "19AK1A0504\n",
      "19AK1A0505\n",
      "19AK1A0506\n",
      "19AK1A0507\n",
      "19AK1A0508\n",
      "19AK1A0509\n",
      "19AK1A0510\n"
     ]
    }
   ],
   "source": [
    "n = int(input())\n",
    "for j in range(n):\n",
    "    print(\"19AK1A05{:02}\".format(j))"
   ]
  },
  {
   "cell_type": "code",
   "execution_count": null,
   "metadata": {},
   "outputs": [],
   "source": [
    "{ } -> .format(?)\n",
    "{:01} -> .format(?)\n",
    "{:02} -> .format()"
   ]
  },
  {
   "cell_type": "markdown",
   "metadata": {},
   "source": [
    "## while -> Unknown ranges, Known ranges\n",
    "        syntanx:\n",
    "              variable init\n",
    "              while(condition):\n",
    "                   //stmnt\n",
    "                   // incr/decr"
   ]
  },
  {
   "cell_type": "code",
   "execution_count": 48,
   "metadata": {
    "collapsed": true
   },
   "outputs": [
    {
     "ename": "IndentationError",
     "evalue": "unindent does not match any outer indentation level (<tokenize>, line 4)",
     "output_type": "error",
     "traceback": [
      "\u001b[1;36m  File \u001b[1;32m\"<tokenize>\"\u001b[1;36m, line \u001b[1;32m4\u001b[0m\n\u001b[1;33m    n= n-1\u001b[0m\n\u001b[1;37m    ^\u001b[0m\n\u001b[1;31mIndentationError\u001b[0m\u001b[1;31m:\u001b[0m unindent does not match any outer indentation level\n"
     ]
    }
   ],
   "source": [
    "n = int(input())\n",
    "while n!=10:\n",
    "      print(n,end='' '')\n",
    "    n= n-1"
   ]
  },
  {
   "cell_type": "code",
   "execution_count": 50,
   "metadata": {},
   "outputs": [
    {
     "name": "stdout",
     "output_type": "stream",
     "text": [
      "1259\n",
      "125\n"
     ]
    }
   ],
   "source": [
    "n = int(input())\n",
    "print(n//10)"
   ]
  },
  {
   "cell_type": "markdown",
   "metadata": {},
   "source": [
    "\n",
    " Input: 1259\n",
    "      output:\n",
    "        Given number is:1259\n",
    "        reverse of a number is:19521\n",
    "        Given number is 1259 and its reverse is:9521   "
   ]
  },
  {
   "cell_type": "code",
   "execution_count": 56,
   "metadata": {},
   "outputs": [
    {
     "name": "stdout",
     "output_type": "stream",
     "text": [
      "1259\n",
      "Given number is : 1259\n",
      "Reverse of a number is :  9521\n",
      " Given number is 1259 and its reverse is : 9521\n"
     ]
    }
   ],
   "source": [
    "n = int(input())\n",
    "r = 0\n",
    "p = n\n",
    "while n!=0:\n",
    "    r = r*10+n%10\n",
    "    n //=10\n",
    "print(\"Given number is : {}\\nReverse of a number is :  {}\\n \"\"Given number is {} and its reverse is : {}\".format(p,r,p,r))"
   ]
  },
  {
   "cell_type": "markdown",
   "metadata": {},
   "source": [
    "## Jumping statements:\n",
    "                 - Break -> exit\n",
    "                 - Continue -> skip\n",
    "                 - Pass -> skip nothing will be printed\n",
    "                 - Return -> values to be sent for function"
   ]
  },
  {
   "cell_type": "code",
   "execution_count": 57,
   "metadata": {},
   "outputs": [
    {
     "name": "stdout",
     "output_type": "stream",
     "text": [
      "10\n",
      "0,1,2,3,4,5,6,7,8,9,10,"
     ]
    }
   ],
   "source": [
    "n = int(input())\n",
    "for k in range(n + 1):\n",
    "    print(k,end=\",\")"
   ]
  },
  {
   "cell_type": "code",
   "execution_count": 67,
   "metadata": {},
   "outputs": [
    {
     "name": "stdout",
     "output_type": "stream",
     "text": [
      "100\n",
      "0 1 2 3 4 \n",
      " 5\n"
     ]
    }
   ],
   "source": [
    "n = int(input())\n",
    "for h in range (n):\n",
    "    if h == 5:\n",
    "        break\n",
    "    else:\n",
    "            print(h,end=\" \")\n",
    "print(\"\\n\",h)"
   ]
  },
  {
   "cell_type": "code",
   "execution_count": 66,
   "metadata": {},
   "outputs": [
    {
     "name": "stdout",
     "output_type": "stream",
     "text": [
      "20\n",
      "0 1 2 3 4 6 7 8 9 10 11 12 13 14 15 16 17 18 19 \n",
      " 19\n"
     ]
    }
   ],
   "source": [
    "n = int(input())\n",
    "for h in range (n):\n",
    "    if h == 5:\n",
    "        continue\n",
    "    else:\n",
    "            print(h,end=\" \")\n",
    "print(\"\\n\",h)"
   ]
  },
  {
   "cell_type": "code",
   "execution_count": 70,
   "metadata": {},
   "outputs": [
    {
     "name": "stdout",
     "output_type": "stream",
     "text": [
      "20\n",
      "0 1 2 3 4 5 6 7 8 9 11 12 13 14 15 16 17 18 19 "
     ]
    }
   ],
   "source": [
    "n = int(input())\n",
    "for b in range (n):\n",
    "    if b == 10:\n",
    "        pass\n",
    "    else:\n",
    "            print(b,end=\" \")"
   ]
  },
  {
   "cell_type": "code",
   "execution_count": 87,
   "metadata": {},
   "outputs": [
    {
     "name": "stdout",
     "output_type": "stream",
     "text": [
      "h\n",
      " ----\n",
      "pass executed\n",
      "e\n",
      " ----\n",
      "l\n",
      " ----\n",
      "l\n",
      " ----\n",
      "o\n",
      " ----\n",
      "continue executed\n"
     ]
    }
   ],
   "source": [
    "for i in 'hello':\n",
    "    if(i == 'e'):\n",
    "        print('pass executed')\n",
    "        pass\n",
    "    print(i)\n",
    "    print(' ----')\n",
    "\n",
    "for i in 'hello':\n",
    "    if(i == 'e'):\n",
    "        print('continue executed')\n",
    "    continue\n",
    "    print(i)"
   ]
  },
  {
   "cell_type": "markdown",
   "metadata": {},
   "source": [
    "## Inner Loops:\n",
    "                - Loop within a Loop\n",
    "             syntax:\n",
    "                     for i in range():\n",
    "                        for j in range():\n",
    "                              if (conditional-n):\n",
    "                                   //stmnts\n",
    "                              else:\n",
    "                                   //stmnts\n",
    "                               print(\"\\n\")"
   ]
  },
  {
   "cell_type": "markdown",
   "metadata": {},
   "source": [
    " 1 - 31\n",
    "      r -  5\n",
    "      c -  7\n",
    "\n",
    "     step-1\n",
    "    01 02 03 04 05 06 07\n",
    "    08 09 10 11 12 13 14\n",
    "    15 16 17 18 19 20 21\n",
    "    22 23 24 25 26 27 28 \n",
    "    29 30 31\n",
    "    \n",
    "    step-2\n",
    "      01 **03 ** 05 ** 07\n",
    "    ** 09 **11 ** 13 **\n",
    "    15 ** 17 ** 19 ** 21\n",
    "    ** 23 ** 25 ** 27 ** \n",
    "    29 ** 31\n",
    "    \n",
    "    step-3\n",
    "   \n",
    "      01 **03 ** ## ** 07\n",
    "    ** 09 **11 ** 13 **\n",
    "    15 ** 17 ** 19 ** 21\n",
    "    ** 23 ** 25 ** 27 ** \n",
    "    29 ## 31"
   ]
  },
  {
   "cell_type": "code",
   "execution_count": 113,
   "metadata": {},
   "outputs": [
    {
     "name": "stdout",
     "output_type": "stream",
     "text": [
      "1 1 1 1 1 1 1 \n",
      "2 2 2 2 2 2 2 \n",
      "3 3 3 3 3 3 3 \n",
      "4 4 4 4 4 4 4 \n",
      "5 5 5 5 5 5 5 \n"
     ]
    }
   ],
   "source": [
    "a = 1\n",
    "for i in range(1,6):\n",
    "    for j in range(1,8):\n",
    "            if  a <= 31:\n",
    "                if a%5==0:\n",
    "                    print(\"##\",end=\" \")\n",
    "                if a%3==0:\n",
    "                    print(\"**\",end=\" \")   \n",
    "                if a%2==0:\n",
    "                    print(\"**\",end=\" \")        \n",
    "        print(i,end=\" \")\n",
    "    print(end=\"\\n\")"
   ]
  },
  {
   "cell_type": "code",
   "execution_count": null,
   "metadata": {},
   "outputs": [],
   "source": []
  },
  {
   "cell_type": "code",
   "execution_count": null,
   "metadata": {},
   "outputs": [],
   "source": []
  },
  {
   "cell_type": "code",
   "execution_count": null,
   "metadata": {},
   "outputs": [],
   "source": []
  },
  {
   "cell_type": "code",
   "execution_count": null,
   "metadata": {},
   "outputs": [],
   "source": []
  }
 ],
 "metadata": {
  "kernelspec": {
   "display_name": "Python 3",
   "language": "python",
   "name": "python3"
  },
  "language_info": {
   "codemirror_mode": {
    "name": "ipython",
    "version": 3
   },
   "file_extension": ".py",
   "mimetype": "text/x-python",
   "name": "python",
   "nbconvert_exporter": "python",
   "pygments_lexer": "ipython3",
   "version": "3.8.5"
  }
 },
 "nbformat": 4,
 "nbformat_minor": 4
}
