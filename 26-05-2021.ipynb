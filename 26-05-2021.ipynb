{
 "cells": [
  {
   "cell_type": "markdown",
   "metadata": {},
   "source": [
    "## Operators:\n",
    "               - Arthematic  -> +,-,*,/,%,floor(//  -> Exct integer), exponential  (** => pow())\n",
    "               - Logical -> AND, OR, NOT\n",
    "               - Bitwise -> &&,||,>>,<<\n",
    "               - Relational  -> ==, |=, >=, <=, >, <\n",
    "               -  Assigment -> ==,"
   ]
  },
  {
   "cell_type": "code",
   "execution_count": 3,
   "metadata": {},
   "outputs": [
    {
     "name": "stdout",
     "output_type": "stream",
     "text": [
      "5\n"
     ]
    }
   ],
   "source": [
    "a = 20\n",
    "print(a>>2)"
   ]
  },
  {
   "cell_type": "markdown",
   "metadata": {},
   "source": [
    "## Conditional statments:\n",
    "              - To check whether a given condition is either True or False\n",
    "              - if,nested if,if-else,elif ladder"
   ]
  },
  {
   "cell_type": "markdown",
   "metadata": {},
   "source": [
    "## If -> Single Case[T or F]\n",
    "            syntanx:\n",
    "                         if (condition):\n",
    "                              //stmnt                         "
   ]
  },
  {
   "cell_type": "code",
   "execution_count": 5,
   "metadata": {},
   "outputs": [
    {
     "name": "stdout",
     "output_type": "stream",
     "text": [
      "12\n",
      "26\n",
      "Entered value 12 is  not equal to 26\n"
     ]
    }
   ],
   "source": [
    "k = int(input())\n",
    "m = int(input())\n",
    "if k == m:\n",
    "    print(\"Entered values {} and {} are Equal\".format(k,m))\n",
    "else:\n",
    "          print(\"Entered value {} is  not equal to {}\".format(k,m))"
   ]
  },
  {
   "cell_type": "markdown",
   "metadata": {},
   "source": [
    "## Nested if [if within an if] -> one or more cases\n",
    "        syntanx:\n",
    "             if(conditional-1):\n",
    "                 if(conditional-2):\n",
    "                     //stmt-1\n",
    "                else optional case       \n",
    "              if(conditional-1):\n",
    "                  if(condition-2):\n",
    "                     //stmt-1\n",
    "                else:\n",
    "                    //stmt-2\n",
    "            else:\n",
    "                 //stmt-3"
   ]
  },
  {
   "cell_type": "code",
   "execution_count": 6,
   "metadata": {},
   "outputs": [
    {
     "name": "stdout",
     "output_type": "stream",
     "text": [
      "100\n",
      "Entered value 100 is equal to 100\n"
     ]
    }
   ],
   "source": [
    "n = int(input())\n",
    "if (n<=200):\n",
    "    if (n==100):\n",
    "        print(\"Entered value {} is equal to 100\".format(n))\n",
    "    else:\n",
    "        print(\"Entered value {} is not equal to 100 but it is lower than 200\".format(n))\n",
    "else:\n",
    "    print(\"Enterd value {} is gearter than 200\".format(n))\n",
    "    "
   ]
  },
  {
   "cell_type": "markdown",
   "metadata": {},
   "source": [
    "## Elif -> Two or n more cases\n",
    "     syntax:\n",
    "           if (condition-1):\n",
    "               //stmnt-1\n",
    "           elif (condition-2):\n",
    "               //stmnt-2\n",
    "           elif (condition-n):\n",
    "               //stmnt-n\n",
    "               |||||\n",
    "           else:\n",
    "                //stmnt-(n+1)n"
   ]
  },
  {
   "cell_type": "code",
   "execution_count": 7,
   "metadata": {},
   "outputs": [
    {
     "name": "stdout",
     "output_type": "stream",
     "text": [
      "30\n",
      "Entered value 30 is divisible by 2\n"
     ]
    }
   ],
   "source": [
    "h = int(input( ))\n",
    "if h%4 == 0:\n",
    "    print(\"Entered value {} is divisible by 4\".format(h))\n",
    "if h%2 == 0 and h%4 == 0:\n",
    "    print(\"Enteres value {} is divisible by 2 and 4\".format(h))\n",
    "if h%2==0:\n",
    "    print(\"Entered value {} is divisible by 2\".format(h))\n",
    "else:\n",
    "    print(\"Entered value {} is Not divisible by 2\".format(h))"
   ]
  },
  {
   "cell_type": "markdown",
   "metadata": {},
   "source": [
    "## Control Statements, iterations,Loops,Repition\n",
    "              - To control the Flow of Execution\n",
    "              - For,while"
   ]
  },
  {
   "cell_type": "markdown",
   "metadata": {},
   "source": []
  }
 ],
 "metadata": {
  "kernelspec": {
   "display_name": "Python 3",
   "language": "python",
   "name": "python3"
  },
  "language_info": {
   "codemirror_mode": {
    "name": "ipython",
    "version": 3
   },
   "file_extension": ".py",
   "mimetype": "text/x-python",
   "name": "python",
   "nbconvert_exporter": "python",
   "pygments_lexer": "ipython3",
   "version": "3.8.5"
  }
 },
 "nbformat": 4,
 "nbformat_minor": 4
}
